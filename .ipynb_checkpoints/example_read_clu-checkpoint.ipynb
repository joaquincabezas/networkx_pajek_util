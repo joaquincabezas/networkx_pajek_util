{
 "cells": [
  {
   "cell_type": "markdown",
   "metadata": {},
   "source": [
    "Example of a function for reading .CLU files (PAJEK partitions) within networkx.\n",
    "\n",
    "Using the style of networkx's 'read_pajek' at https://github.com/networkx/networkx/blob/master/networkx/readwrite/pajek.py\n",
    "\n",
    "@Author: github.com/joaquincabezas"
   ]
  },
  {
   "cell_type": "code",
   "execution_count": null,
   "metadata": {},
   "outputs": [],
   "source": [
    "import networkx as nx\n",
    "from networkx.utils import open_file\n",
    "from collections import defaultdict"
   ]
  },
  {
   "cell_type": "code",
   "execution_count": null,
   "metadata": {},
   "outputs": [],
   "source": [
    "@open_file(0, mode='rb')\n",
    "def read_pajek_clu(path, encoding='UTF-8'):\n",
    "    \"\"\"Read partition in Pajek format from path.\n",
    "    Parameters\n",
    "    ----------\n",
    "    path : file or string\n",
    "       File or filename to read.\n",
    "       Filenames ending in .gz or .bz2 will be uncompressed.\n",
    "    Returns\n",
    "    -------\n",
    "    communities (list) – List of communities\n",
    "    Examples\n",
    "    --------\n",
    "    >>> G = nx.path_graph(4)\n",
    "    >>> nx.write_pajek(G, \"test.net\")\n",
    "    >>> G = nx.read_pajek(\"test.net\")\n",
    "    To create a Graph instead of a MultiGraph use\n",
    "    >>> G1 = nx.Graph(G)\n",
    "    References\n",
    "    ----------\n",
    "    See http://vlado.fmf.uni-lj.si/pub/networks/pajek/doc/draweps.htm\n",
    "    for format information.\n",
    "    \"\"\"\n",
    "    lines = (line.decode(encoding) for line in path)\n",
    "    return parse_pajek_clu(lines)"
   ]
  },
  {
   "cell_type": "code",
   "execution_count": null,
   "metadata": {},
   "outputs": [],
   "source": [
    "def parse_pajek_clu(lines):\n",
    "    \"\"\"Parse Pajek format partition from string or iterable.\n",
    "    Parameters\n",
    "    ----------\n",
    "    lines : string or iterable\n",
    "       Data in Pajek partition format.\n",
    "    Returns\n",
    "    -------\n",
    "    communities (list) – List of communities\n",
    "    See Also\n",
    "    --------\n",
    "    read_pajek_clu()\n",
    "    \"\"\"\n",
    "    if isinstance(lines, str):\n",
    "        lines = iter(lines.split('\\n'))\n",
    "    lines = iter([line.rstrip('\\n') for line in lines])\n",
    "    \n",
    "    while lines:\n",
    "        try:\n",
    "            l = next(lines)\n",
    "        except:  # EOF\n",
    "            break\n",
    "        if l.lower().startswith(\"*vertices\"):\n",
    "            l, nnodes = l.split()\n",
    "            communities = defaultdict(list)\n",
    "            for vertice in range(int(nnodes)):\n",
    "                l = next(lines)\n",
    "                community = int(l)\n",
    "                communities.setdefault(community, []).append(vertice)\n",
    "        else:\n",
    "            break\n",
    "            \n",
    "    return [ v for k,v in dict(communities).items() ]"
   ]
  },
  {
   "cell_type": "code",
   "execution_count": null,
   "metadata": {},
   "outputs": [],
   "source": [
    "# Example \n",
    "communities = read_pajek_clu('simple.clu', encoding='UTF-8')"
   ]
  },
  {
   "cell_type": "code",
   "execution_count": null,
   "metadata": {},
   "outputs": [],
   "source": [
    "communities"
   ]
  }
 ],
 "metadata": {
  "kernelspec": {
   "display_name": "Python 3",
   "language": "python",
   "name": "python3"
  },
  "language_info": {
   "codemirror_mode": {
    "name": "ipython",
    "version": 3
   },
   "file_extension": ".py",
   "mimetype": "text/x-python",
   "name": "python",
   "nbconvert_exporter": "python",
   "pygments_lexer": "ipython3",
   "version": "3.7.6"
  }
 },
 "nbformat": 4,
 "nbformat_minor": 4
}
