{
 "cells": [
  {
   "cell_type": "markdown",
   "metadata": {},
   "source": [
    "Example of a function for reading .CLU files (PAJEK partitions) within networkx.\n",
    "\n",
    "Using the style of networkx's 'read_pajek' at https://github.com/networkx/networkx/blob/master/networkx/readwrite/pajek.py\n",
    "\n",
    "Once these functions are properly tested, I will propose a Pull Request to the networkx repository for that file\n",
    "\n",
    "@Author: github.com/joaquincabezas"
   ]
  },
  {
   "cell_type": "code",
   "execution_count": null,
   "metadata": {},
   "outputs": [],
   "source": [
    "import networkx as nx\n",
    "from networkx.utils import open_file\n",
    "from collections import defaultdict"
   ]
  },
  {
   "cell_type": "code",
   "execution_count": null,
   "metadata": {},
   "outputs": [],
   "source": [
    "@open_file(0, mode='rb')\n",
    "def read_pajek_communities(path, encoding='UTF-8'):\n",
    "    \"\"\"Read communities in Pajek format (.clu) from path.\n",
    "    Parameters\n",
    "    ----------\n",
    "    path : file or string\n",
    "       File or filename to read.\n",
    "       Filenames ending in .gz or .bz2 will be uncompressed.\n",
    "    Returns\n",
    "    -------\n",
    "    communities (list) – List of communities\n",
    "    Examples\n",
    "    --------\n",
    "    >>> G = nx.read_pajek(\"simple.net\")\n",
    "    >>> communities = nx.read_pajek_communities(\"simple.clu\")\n",
    "    References\n",
    "    ----------\n",
    "    See http://vlado.fmf.uni-lj.si/pub/networks/pajek/doc/draweps.htm\n",
    "    for format information.\n",
    "    \"\"\"\n",
    "    lines = (line.decode(encoding) for line in path)\n",
    "    return parse_pajek_communities(lines)"
   ]
  },
  {
   "cell_type": "code",
   "execution_count": null,
   "metadata": {},
   "outputs": [],
   "source": [
    "def parse_pajek_communities(lines):\n",
    "    \"\"\"Parse Pajek format partition from string or iterable.\n",
    "    Parameters\n",
    "    ----------\n",
    "    lines : string or iterable\n",
    "       Data in Pajek partition format.\n",
    "    Returns\n",
    "    -------\n",
    "    communities (list) – List of communities\n",
    "    See Also\n",
    "    --------\n",
    "    read_pajek_partition()\n",
    "    \"\"\"\n",
    "    if isinstance(lines, str):\n",
    "        lines = iter(lines.split('\\n'))\n",
    "    lines = iter([line.rstrip('\\n') for line in lines])\n",
    "    \n",
    "    while lines:\n",
    "        try:\n",
    "            l = next(lines)\n",
    "        except:  # EOF\n",
    "            break\n",
    "        if l.lower().startswith(\"*vertices\"):\n",
    "            l, nnodes = l.split()\n",
    "            communities = defaultdict(list)\n",
    "            for vertex in range(int(nnodes)):\n",
    "                l = next(lines)\n",
    "                community = int(l)\n",
    "                communities.setdefault(community, []).append(vertex)\n",
    "        else:\n",
    "            break\n",
    "            \n",
    "    return [ v for k,v in dict(communities).items() ]"
   ]
  },
  {
   "cell_type": "code",
   "execution_count": null,
   "metadata": {},
   "outputs": [],
   "source": [
    "@open_file(1, mode='wb')\n",
    "def write_pajek_communities(communities, path, encoding='UTF-8'):\n",
    "    \"\"\"Write partition in Pajek format (.clu) to path.\n",
    "    Parameters\n",
    "    ----------\n",
    "    communities : list\n",
    "       A communities list following networkx structure\n",
    "    path : file or string\n",
    "       File or filename to write.\n",
    "       Filenames ending in .gz or .bz2 will be compressed.\n",
    "    Examples\n",
    "    --------\n",
    "    >>> nx.write_pajek_communities(communities, \"test.clu\")\n",
    "    Warnings\n",
    "    --------\n",
    "    We consider the vertices of the community regardless their precise numbering, only\n",
    "    taking into account the ordinality\n",
    "    References\n",
    "    ----------\n",
    "    See http://vlado.fmf.uni-lj.si/pub/networks/pajek/doc/draweps.htm\n",
    "    for format information.\n",
    "    \"\"\"\n",
    "    for line in generate_pajek_communities(communities):\n",
    "        line += '\\r\\n'\n",
    "        path.write(line.encode(encoding))"
   ]
  },
  {
   "cell_type": "code",
   "execution_count": null,
   "metadata": {},
   "outputs": [],
   "source": [
    "def generate_pajek_communities(communities):\n",
    "    \"\"\"Generate lines in Pajek communities format (.clu).\n",
    "    Parameters\n",
    "    ----------\n",
    "    communities : list\n",
    "       A communities list\n",
    "    References\n",
    "    ----------\n",
    "    See http://vlado.fmf.uni-lj.si/pub/networks/pajek/doc/draweps.htm\n",
    "    for format information.\n",
    "    \"\"\"\n",
    "    \n",
    "    # We need a copy of the communities to use the strategy of removing vertices\n",
    "    communities_list = [inner_list[:] for inner_list in communities]\n",
    "    nnodes = sum( [ len(vertex) for vertex in communities])\n",
    "\n",
    "    # Write first line\n",
    "    yield f\"*Vertices {nnodes}\"\n",
    "     \n",
    "    # We do not assume that vertices:\n",
    "    # - Starts with the number 1\n",
    "    # - Are correlative\n",
    "    # Therefore we will look for the minimum then pop it\n",
    "    \n",
    "    for n in range(0, nnodes):\n",
    "        \n",
    "        # We look for the minimum vertex number\n",
    "        vertex =  min([min(item) for item in communities_list if item]) \n",
    "        \n",
    "        # We find the community this vertex belongs to\n",
    "        community = next(i for i,v in enumerate(communities_list) if vertex in v)\n",
    "        \n",
    "        # We put the community number in the row corresponding to the vertex\n",
    "        # We add 1 because Pajek communities starts with number 1\n",
    "        yield f\"{community+1}\"\n",
    "        \n",
    "        # We remove this vertex from the communities structure\n",
    "        communities_list[community].remove(vertex)"
   ]
  },
  {
   "cell_type": "code",
   "execution_count": null,
   "metadata": {},
   "outputs": [],
   "source": [
    "# Example \n",
    "communities_pajek = read_pajek_communities('simple.clu', encoding='UTF-8')"
   ]
  },
  {
   "cell_type": "code",
   "execution_count": null,
   "metadata": {},
   "outputs": [],
   "source": [
    "write_pajek_communities(communities_pajek, \"test.clu\")"
   ]
  },
  {
   "cell_type": "markdown",
   "metadata": {},
   "source": [
    "At this point, the two files: \"simple.clu\" and \"test.clu\" should be identical copies"
   ]
  }
 ],
 "metadata": {
  "kernelspec": {
   "display_name": "Python 3",
   "language": "python",
   "name": "python3"
  },
  "language_info": {
   "codemirror_mode": {
    "name": "ipython",
    "version": 3
   },
   "file_extension": ".py",
   "mimetype": "text/x-python",
   "name": "python",
   "nbconvert_exporter": "python",
   "pygments_lexer": "ipython3",
   "version": "3.7.6"
  }
 },
 "nbformat": 4,
 "nbformat_minor": 4
}
